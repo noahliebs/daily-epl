{
 "cells": [
  {
   "cell_type": "code",
   "execution_count": 14,
   "id": "77526068-77c3-4258-9bef-78bc46016465",
   "metadata": {},
   "outputs": [],
   "source": [
    "import requests\n",
    "import math\n",
    "import time\n",
    "import json\n",
    "\n",
    "from tqdm import tqdm"
   ]
  },
  {
   "cell_type": "code",
   "execution_count": 15,
   "id": "3e0593d1-02b5-4aab-9a91-cb2e5ae98bd8",
   "metadata": {},
   "outputs": [],
   "source": [
    "def get_epl_table():\n",
    "    url = 'https://footballapi.pulselive.com/football/standings?compSeasons=418&altIds=true&detail=2&FOOTBALL_COMPETITION=1'\n",
    "    payload = requests.get(url, headers = { \"origin\": \"https://www.premierleague.com\"}).json()\n",
    "    table = payload[\"tables\"][0]\n",
    "    return table[\"entries\"]"
   ]
  },
  {
   "cell_type": "code",
   "execution_count": 16,
   "id": "bb7ed4a0-4e04-41a8-81b9-6656e9a90634",
   "metadata": {},
   "outputs": [],
   "source": [
    "with open(\"data/epl_table.json\", \"w\") as f:\n",
    "    table = get_epl_table()\n",
    "    f.write(json.dumps(table))"
   ]
  },
  {
   "cell_type": "code",
   "execution_count": null,
   "id": "245b3f06",
   "metadata": {},
   "outputs": [],
   "source": [
    "def get_team(teamId: int):\n",
    "    url = 'https://footballapi.pulselive.com/football/teams/%s/compseasons/418/staff?pageSize=50&compSeasons=418&altIds=true&page=0&type=player' % str(teamId)\n",
    "    return requests.get(url, headers = { \"origin\": \"https://www.premierleague.com\"}).json()"
   ]
  },
  {
   "cell_type": "code",
   "execution_count": 17,
   "id": "fc77383b-0e2e-4b34-8260-8ff89cfbe36d",
   "metadata": {},
   "outputs": [],
   "source": [
    "all_teams = [get_team(t[\"team\"][\"id\"]) for t in table]\n",
    "with open(\"data/raw_team_data.json\", \"w\") as f:\n",
    "    f.write(json.dumps(all_teams))"
   ]
  },
  {
   "cell_type": "code",
   "execution_count": 42,
   "id": "bbc43b7c-706a-47c0-91f6-79956183fff1",
   "metadata": {},
   "outputs": [],
   "source": [
    "def is_invalid(raw_player):\n",
    "    return \"date\" not in raw_player[\"birth\"] or \"country\" not in raw_player[\"nationalTeam\"]\n",
    "\n",
    "\n",
    "def clean_player(team, raw_player):\n",
    "    playerId = int(raw_player[\"id\"])\n",
    "    optaId = player[\"altIds\"][\"opta\"]\n",
    "    position = raw_player[\"info\"][\"position\"]\n",
    "    nation = raw_player[\"nationalTeam\"]\n",
    "    dob = raw_player[\"birth\"][\"date\"][\"millis\"]\n",
    "    name = raw_player[\"name\"]\n",
    "    loan = raw_player[\"info\"].get(\"loan\", False)\n",
    "    number = raw_player[\"info\"][\"shirtNum\"]\n",
    "    currentTeam = team[\"team\"][\"name\"]\n",
    "\n",
    "    return {\n",
    "        \"id\": playerId,\n",
    "        \"optaId\": optaId,\n",
    "        \"position\": position,\n",
    "        \"number\": number,\n",
    "        \"nation\": nation,\n",
    "        \"dob\": dob,\n",
    "        \"name\": name,\n",
    "        \"team\": currentTeam\n",
    "    }\n",
    "    \n",
    "    \n",
    "def get_player_stats(cleansed_player):\n",
    "    url = 'https://footballapi.pulselive.com/football/stats/player/%s?comps=1&compSeasons=418' % str(int(cleansed_player[\"id\"]))\n",
    "    payload = requests.get(url, headers = { \"origin\": \"https://www.premierleague.com\"}).json()\n",
    "\n",
    "    stats = payload[\"stats\"]\n",
    "    relevant_stats = {}\n",
    "    \n",
    "    stat_name_mapping = {\n",
    "        \"goals\": \"goals\",\n",
    "        \"goal_assist\": \"assists\",\n",
    "        \"appearances\": \"appearances\",\n",
    "        \"mins_played\": \"mins_played\"\n",
    "    }\n",
    "    \n",
    "    for s in stats:\n",
    "        if s[\"name\"] in stat_name_mapping.keys():\n",
    "            relevant_stats[stat_name_mapping[s[\"name\"]]] = int(s[\"value\"])\n",
    "        \n",
    "    for k in stat_name_mapping.values():\n",
    "        if k not in relevant_stats:\n",
    "            relevant_stats[k] = 0\n",
    "            \n",
    "    return relevant_stats"
   ]
  },
  {
   "cell_type": "code",
   "execution_count": null,
   "id": "44bde99f-89d1-4cf4-b503-4e5307e3a8ca",
   "metadata": {},
   "outputs": [],
   "source": [
    "augmented_players = []\n",
    "invalid = []\n",
    "exceptions = []\n",
    "\n",
    "for team in tqdm(all_players):\n",
    "    for player in team[\"players\"]:\n",
    "    \n",
    "        try:\n",
    "            if is_invalid(player):\n",
    "                invalid.append(player)\n",
    "\n",
    "            else:\n",
    "                filtered = clean_player(team, player)\n",
    "                stats = get_player_stats(filtered)\n",
    "                stats.update(filtered)\n",
    "                augmented_players.append(stats)\n",
    "                time.sleep(0.05)\n",
    "        except:\n",
    "            exceptions.append(player)\n",
    "        \n",
    "with open(\"data/augmented_players.json\", \"w\") as f:\n",
    "    f.write(json.dumps(augmented_players))"
   ]
  },
  {
   "cell_type": "code",
   "execution_count": null,
   "id": "90a1a901-1c0e-453b-a236-8d9380d5d8f6",
   "metadata": {},
   "outputs": [],
   "source": [
    "print(len(augmented_players))\n",
    "print(len(invalid))\n",
    "print(len(exceptions))"
   ]
  },
  {
   "cell_type": "code",
   "execution_count": null,
   "id": "7469fa77-5f58-4a51-b378-90d338e7783e",
   "metadata": {},
   "outputs": [],
   "source": [
    "[p for p in augmented_players if p[\"name\"][\"first\"] == \"Kyle\"]"
   ]
  },
  {
   "cell_type": "code",
   "execution_count": null,
   "id": "41ba8eb3",
   "metadata": {},
   "outputs": [],
   "source": [
    "## DOWNLOAD PHOTOS\n",
    "\n",
    "\n",
    "## Get 40x40 photos\n",
    "for team in tqdm(all_players):\n",
    "    for player in team[\"players\"]:\n",
    "        if not is_invalid(player):\n",
    "            opta_id = player[\"altIds\"][\"opta\"]\n",
    "            url = \"https://resources.premierleague.com/premierleague/photos/players/40x40/%s.png\" % opta_id\n",
    "            with open(\"data/photos/40x40/%s.png\" % opta_id, \"wb\") as f:\n",
    "                f.write(requests.get(url).content)\n",
    "            time.sleep(0.2)\n",
    "\n",
    "## Get 250x250 photos\n",
    "for team in tqdm(all_players):\n",
    "    for player in team[\"players\"]:\n",
    "        if not is_invalid(player):\n",
    "            opta_id = player[\"altIds\"][\"opta\"]\n",
    "            url = \"https://resources.premierleague.com/premierleague/photos/players/250x250/%s.png\" % opta_id\n",
    "            with open(\"data/photos/250x250/%s.png\" % opta_id, \"wb\") as f:\n",
    "                f.write(requests.get(url).content)\n",
    "        time.sleep(0.2)"
   ]
  }
 ],
 "metadata": {
  "kernelspec": {
   "display_name": "Python 3 (ipykernel)",
   "language": "python",
   "name": "python3"
  },
  "language_info": {
   "codemirror_mode": {
    "name": "ipython",
    "version": 3
   },
   "file_extension": ".py",
   "mimetype": "text/x-python",
   "name": "python",
   "nbconvert_exporter": "python",
   "pygments_lexer": "ipython3",
   "version": "3.9.10"
  }
 },
 "nbformat": 4,
 "nbformat_minor": 5
}
