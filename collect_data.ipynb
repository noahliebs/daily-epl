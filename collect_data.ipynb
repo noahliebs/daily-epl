{
 "cells": [
  {
   "cell_type": "code",
   "execution_count": 1,
   "id": "77526068-77c3-4258-9bef-78bc46016465",
   "metadata": {},
   "outputs": [],
   "source": [
    "import requests\n",
    "import math\n",
    "import time\n",
    "import json\n",
    "\n",
    "from tqdm import tqdm"
   ]
  },
  {
   "cell_type": "code",
   "execution_count": 29,
   "id": "2971fb84-f9ef-4cf4-90f6-8d3403ba0079",
   "metadata": {},
   "outputs": [
    {
     "name": "stdout",
     "output_type": "stream",
     "text": [
      "Collected 956 Player's Information!\n"
     ]
    }
   ],
   "source": [
    "## This omits players for some reason!!\n",
    "# players = []\n",
    "\n",
    "\n",
    "# pageSize = 100\n",
    "\n",
    "# headers = {\n",
    "#         \"origin\": \"https://www.premierleague.com\"\n",
    "# }\n",
    "\n",
    "\n",
    "# page = 0\n",
    "# while(True):\n",
    "#     url = 'https://footballapi.pulselive.com/football/players?pageSize=50&page=%s&compSeasons=418&altIds=true&page=0&type=player&id=-1&compSeasonId=418' % page\n",
    "#     payload = requests.get(url, headers = { \"origin\": \"https://www.premierleague.com\"}).json()\n",
    "#     pageInfo = payload[\"pageInfo\"]\n",
    "#     content = payload[\"content\"]\n",
    "#     players.extend(content)\n",
    "    \n",
    "#     if pageInfo[\"page\"] == pageInfo[\"numPages\"]:\n",
    "#         break\n",
    "    \n",
    "#     page += 1\n",
    "#     time.sleep(0.3)\n",
    "    \n",
    "    \n",
    "    \n",
    "    \n",
    "    \n",
    "# print(\"Collected %s Player's Information!\" % len(players))\n",
    "    \n",
    "    "
   ]
  },
  {
   "cell_type": "code",
   "execution_count": null,
   "id": "202e5f66-de95-4be4-baf3-8b60fe4e02eb",
   "metadata": {},
   "outputs": [],
   "source": [
    "# with open(\"raw_player_data.json\", \"w\") as f:\n",
    "#     f.write(json.dumps(players))"
   ]
  },
  {
   "cell_type": "code",
   "execution_count": 10,
   "id": "44959125-3e01-4960-a854-9e2648141528",
   "metadata": {},
   "outputs": [],
   "source": [
    "# with open(\"raw_player_data.json\", \"r\") as f:\n",
    "#     players = json.loads(f.read())"
   ]
  },
  {
   "cell_type": "code",
   "execution_count": 17,
   "id": "3e0593d1-02b5-4aab-9a91-cb2e5ae98bd8",
   "metadata": {},
   "outputs": [],
   "source": [
    "def get_epl_table():\n",
    "    url = 'https://footballapi.pulselive.com/football/standings?compSeasons=418&altIds=true&detail=2&FOOTBALL_COMPETITION=1'\n",
    "    payload = requests.get(url, headers = { \"origin\": \"https://www.premierleague.com\"}).json()\n",
    "    table = payload[\"tables\"][0]\n",
    "    return table[\"entries\"]\n",
    "    \n",
    "\n",
    "\n",
    "def get_team(teamId: int):\n",
    "    url = 'https://footballapi.pulselive.com/football/teams/%s/compseasons/418/staff?pageSize=50&compSeasons=418&altIds=true&page=0&type=player' % str(teamId)\n",
    "    return requests.get(url, headers = { \"origin\": \"https://www.premierleague.com\"}).json()"
   ]
  },
  {
   "cell_type": "code",
   "execution_count": 24,
   "id": "bb7ed4a0-4e04-41a8-81b9-6656e9a90634",
   "metadata": {},
   "outputs": [],
   "source": [
    "with open(\"epl_table.json\", \"w\") as f:\n",
    "    table = get_epl_table()\n",
    "    f.write(json.dumps(table))"
   ]
  },
  {
   "cell_type": "code",
   "execution_count": 25,
   "id": "fc77383b-0e2e-4b34-8260-8ff89cfbe36d",
   "metadata": {},
   "outputs": [],
   "source": [
    "all_players = [get_team(t[\"team\"][\"id\"]) for t in table]\n",
    "with open(\"raw_team_data.json\", \"w\") as f:\n",
    "    f.write(json.dumps(all_players))"
   ]
  },
  {
   "cell_type": "code",
   "execution_count": 6,
   "id": "bbc43b7c-706a-47c0-91f6-79956183fff1",
   "metadata": {},
   "outputs": [],
   "source": [
    "def is_invalid(raw_player):\n",
    "    return \"date\" not in raw_player[\"birth\"]\n",
    "\n",
    "\n",
    "def clean_player(team, raw_player):\n",
    "    playerId = int(raw_player[\"id\"])\n",
    "    position = raw_player[\"info\"][\"position\"]\n",
    "    nation = raw_player[\"nationalTeam\"]\n",
    "    dob = raw_player[\"birth\"][\"date\"][\"millis\"]\n",
    "    name = raw_player[\"name\"]\n",
    "    loan = raw_player[\"info\"].get(\"loan\", False)\n",
    "    number = raw_player[\"info\"][\"shirtNum\"]\n",
    "    currentTeam = team[\"team\"][\"name\"]\n",
    "\n",
    "    return {\n",
    "        \"id\": playerId,\n",
    "        \"position\": position,\n",
    "        \"number\": number,\n",
    "        \"nation\": nation,\n",
    "        \"dob\": dob,\n",
    "        \"name\": name,\n",
    "        \"team\": currentTeam\n",
    "    }\n",
    "    \n",
    "    \n",
    "def get_player_stats(cleansed_player):\n",
    "    url = 'https://footballapi.pulselive.com/football/stats/player/%s?comps=1&compSeasons=418' % str(int(cleansed_player[\"id\"]))\n",
    "    payload = requests.get(url, headers = { \"origin\": \"https://www.premierleague.com\"}).json()\n",
    "\n",
    "    stats = payload[\"stats\"]\n",
    "    relevant_stats = {}\n",
    "    \n",
    "    stat_name_mapping = {\n",
    "        \"goals\": \"goals\",\n",
    "        \"goal_assist\": \"assists\",\n",
    "        \"appearances\": \"appearances\",\n",
    "        \"mins_played\": \"mins_played\"\n",
    "    }\n",
    "    \n",
    "    for s in stats:\n",
    "        if s[\"name\"] in stat_name_mapping.keys():\n",
    "            relevant_stats[stat_name_mapping[s[\"name\"]]] = int(s[\"value\"])\n",
    "        \n",
    "    for k in stat_name_mapping.values():\n",
    "        if k not in relevant_stats:\n",
    "            relevant_stats[k] = 0\n",
    "            \n",
    "    return relevant_stats"
   ]
  },
  {
   "cell_type": "code",
   "execution_count": 21,
   "id": "44bde99f-89d1-4cf4-b503-4e5307e3a8ca",
   "metadata": {},
   "outputs": [
    {
     "name": "stderr",
     "output_type": "stream",
     "text": [
      "100%|##########| 20/20 [02:14<00:00,  6.74s/it]\n"
     ]
    }
   ],
   "source": [
    "augmented_players = []\n",
    "invalid = []\n",
    "exceptions = []\n",
    "\n",
    "for team in tqdm(all_players):\n",
    "    for player in team[\"players\"]:\n",
    "    \n",
    "        try:\n",
    "            if is_invalid(player):\n",
    "                invalid.append(player)\n",
    "\n",
    "            else:\n",
    "                filtered = clean_player(team, player)\n",
    "                stats = get_player_stats(filtered)\n",
    "                stats.update(filtered)\n",
    "                augmented_players.append(stats)\n",
    "                time.sleep(0.05)\n",
    "        except:\n",
    "            exceptions.append(player)\n",
    "        \n",
    "with open(\"augmented_players.json\", \"w\") as f:\n",
    "    f.write(json.dumps(augmented_players))"
   ]
  },
  {
   "cell_type": "code",
   "execution_count": 23,
   "id": "90a1a901-1c0e-453b-a236-8d9380d5d8f6",
   "metadata": {},
   "outputs": [
    {
     "name": "stdout",
     "output_type": "stream",
     "text": [
      "642\n",
      "2\n",
      "1\n"
     ]
    }
   ],
   "source": [
    "print(len(augmented_players))\n",
    "print(len(invalid))\n",
    "print(len(exceptions))"
   ]
  },
  {
   "cell_type": "code",
   "execution_count": 15,
   "id": "7469fa77-5f58-4a51-b378-90d338e7783e",
   "metadata": {},
   "outputs": [
    {
     "data": {
      "text/plain": [
       "[{'appearances': 18,\n",
       "  'assists': 2,\n",
       "  'mins_played': 1575,\n",
       "  'goals': 0,\n",
       "  'id': 3955,\n",
       "  'position': 'D',\n",
       "  'number': 2,\n",
       "  'nation': {'isoCode': 'GB-ENG', 'country': 'England', 'demonym': 'English'},\n",
       "  'dob': 643852800000,\n",
       "  'name': {'display': 'Kyle Walker',\n",
       "   'first': 'Kyle',\n",
       "   'middle': 'Andrew',\n",
       "   'last': 'Walker'},\n",
       "  'team': 'Manchester City'},\n",
       " {'appearances': 23,\n",
       "  'goals': 1,\n",
       "  'assists': 2,\n",
       "  'mins_played': 1829,\n",
       "  'id': 13815,\n",
       "  'position': 'D',\n",
       "  'number': 2,\n",
       "  'nation': {'isoCode': 'GB-ENG', 'country': 'England', 'demonym': 'English'},\n",
       "  'dob': 860889600000,\n",
       "  'name': {'display': 'Kyle Walker-Peters',\n",
       "   'first': 'Kyle',\n",
       "   'last': 'Walker-Peters'},\n",
       "  'team': 'Southampton'}]"
      ]
     },
     "execution_count": 15,
     "metadata": {},
     "output_type": "execute_result"
    }
   ],
   "source": [
    "[p for p in augmented_players if p[\"name\"][\"first\"] == \"Kyle\"]"
   ]
  },
  {
   "cell_type": "code",
   "execution_count": 25,
   "id": "787a20dd-a8f5-4cac-8650-d01096a03f38",
   "metadata": {},
   "outputs": [
    {
     "data": {
      "text/plain": [
       "[{'appearances': 21,\n",
       "  'goals': 7,\n",
       "  'assists': 3,\n",
       "  'mins_played': 1611,\n",
       "  'id': 14805,\n",
       "  'position': 'M',\n",
       "  'number': 47,\n",
       "  'nation': {'isoCode': 'GB-ENG', 'country': 'England', 'demonym': 'English'},\n",
       "  'dob': 959472000000.0,\n",
       "  'name': {'display': 'Phil Foden', 'first': 'Phil', 'last': 'Foden'},\n",
       "  'team': 'Manchester City'}]"
      ]
     },
     "execution_count": 25,
     "metadata": {},
     "output_type": "execute_result"
    }
   ],
   "source": [
    "[p for p in augmented_players if p[\"name\"][\"display\"] == \"Phil Foden\"]"
   ]
  },
  {
   "cell_type": "code",
   "execution_count": 22,
   "id": "affcec62-956b-4bdc-8648-6b2b3476780d",
   "metadata": {},
   "outputs": [
    {
     "name": "stdout",
     "output_type": "stream",
     "text": [
      "['James Storer', 'Shaqai Forde']\n"
     ]
    }
   ],
   "source": [
    "print([p[\"name\"][\"display\"] for p in invalid])"
   ]
  },
  {
   "cell_type": "code",
   "execution_count": null,
   "id": "94e55288-40c2-4034-9304-cb3547c6aa78",
   "metadata": {},
   "outputs": [],
   "source": []
  }
 ],
 "metadata": {
  "kernelspec": {
   "display_name": "Python 3.7 (XPython)",
   "language": "python",
   "name": "xpython"
  },
  "language_info": {
   "file_extension": ".py",
   "mimetype": "text/x-python",
   "name": "python",
   "version": "3.7.12"
  }
 },
 "nbformat": 4,
 "nbformat_minor": 5
}
