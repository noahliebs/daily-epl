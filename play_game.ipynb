{
 "cells": [
  {
   "cell_type": "code",
   "execution_count": 5,
   "id": "a9dbe0db-b403-4378-833e-d8fb64725ff5",
   "metadata": {},
   "outputs": [],
   "source": [
    "import requests\n",
    "import math\n",
    "import time\n",
    "import json\n",
    "import random\n",
    "import csv\n",
    "import datetime\n",
    "\n",
    "from dateutil.relativedelta import relativedelta\n",
    "import pandas as pd\n",
    "from pprint import pprint\n",
    "from tqdm import tqdm\n",
    "from typing import Tuple"
   ]
  },
  {
   "cell_type": "code",
   "execution_count": 21,
   "id": "23a24f6f-966e-4e5b-a150-5a0d5deebfcf",
   "metadata": {},
   "outputs": [],
   "source": [
    "with open(\"augmented_players.json\", \"r\") as f:\n",
    "    players = json.loads(f.read())"
   ]
  },
  {
   "cell_type": "code",
   "execution_count": 44,
   "id": "4857eca3-70a9-4454-bebd-3e3cb979bf50",
   "metadata": {},
   "outputs": [
    {
     "name": "stdout",
     "output_type": "stream",
     "text": [
      "347\n"
     ]
    }
   ],
   "source": [
    "min_mins_requirement = 300\n",
    "min_games = 8\n",
    "\n",
    "player_map = {}\n",
    "\n",
    "for p in players:\n",
    "    player_map[p[\"name\"][\"display\"]] = p\n",
    "    \n",
    "print(len(filtered_players))\n",
    "\n",
    "## When choosing a random player, restrict the subset to players people would actually know\n",
    "filtered_players = [p for p in players if p[\"appearances\"] >= min_games and p[\"mins_played\"] > min_mins_requirement and p[\"position\"] != \"G\"]\n",
    "def pick_random_player():\n",
    "    return random.choice(list(filtered_players))"
   ]
  },
  {
   "cell_type": "code",
   "execution_count": 4,
   "id": "24437639-074c-4f90-82cb-e5ce52108408",
   "metadata": {},
   "outputs": [
    {
     "name": "stdout",
     "output_type": "stream",
     "text": [
      "UEFA\n"
     ]
    }
   ],
   "source": [
    "## Initialize the Country -> Continent Mapping\n",
    "confederation_mapping = {}\n",
    "with open(\"fifa.csv\", \"r\") as f:\n",
    "    reader = csv.reader(f, delimiter=',')\n",
    "    next(reader)\n",
    "    for row in reader:\n",
    "        confederation_mapping[row[0]] = row[1]\n",
    "        \n",
    "print(confederation_mapping[\"England\"])\n",
    "    "
   ]
  },
  {
   "cell_type": "code",
   "execution_count": 16,
   "id": "cbfac3f2-a7af-4e68-8bd2-cdc330af83d7",
   "metadata": {},
   "outputs": [
    {
     "name": "stdout",
     "output_type": "stream",
     "text": [
      "['Manchester City',\n",
      " 'Liverpool',\n",
      " 'Chelsea',\n",
      " 'Arsenal',\n",
      " 'Tottenham Hotspur',\n",
      " 'Manchester United',\n",
      " 'West Ham United',\n",
      " 'Wolverhampton Wanderers',\n",
      " 'Aston Villa',\n",
      " 'Leicester City',\n",
      " 'Southampton',\n",
      " 'Crystal Palace',\n",
      " 'Brighton and Hove Albion',\n",
      " 'Newcastle United',\n",
      " 'Brentford',\n",
      " 'Leeds United',\n",
      " 'Everton',\n",
      " 'Watford',\n",
      " 'Burnley',\n",
      " 'Norwich City']\n"
     ]
    }
   ],
   "source": [
    "## Initialize EPL Table\n",
    "with open(\"epl_table.json\", \"r\") as f:\n",
    "    epl_table = json.loads(f.read())\n",
    "    standings = [t[\"team\"][\"name\"] for t in epl_table]\n",
    "    pprint(standings)\n",
    "    \n",
    "def get_epl_table_diff(team1, team2):\n",
    "    position1 = standings.index(team1)\n",
    "    position2 = standings.index(team2)\n",
    "    return (position1 - position2)"
   ]
  },
  {
   "cell_type": "code",
   "execution_count": 46,
   "id": "26ff466e-6ae2-4d4c-a5f0-566f63a889f1",
   "metadata": {},
   "outputs": [
    {
     "name": "stdout",
     "output_type": "stream",
     "text": [
      "['Harry Winks', 'Harry Lewis', 'Harry Maguire', 'Harry Kane', 'Harry Tyrer']\n",
      "['Harry Maguire']\n"
     ]
    }
   ],
   "source": [
    "class TrieNode(object):\n",
    "    \"\"\"\n",
    "    Our trie node implementation. Store a search word as a pointer to the full word\n",
    "    \"\"\"\n",
    "    \n",
    "    def __init__(self, char: str, value: str):\n",
    "        self.char = char\n",
    "        self.children = []\n",
    "        # Is it the last character of the word.`\n",
    "        self.word_finished = False\n",
    "        # How many times this character appeared in the addition process\n",
    "        self.counter = 1\n",
    "        self.value = value\n",
    "    \n",
    "\n",
    "def add(root, search_word: str, value: str):\n",
    "    \"\"\"\n",
    "    Adding a word in the trie structure\n",
    "    \"\"\"\n",
    "    node = root\n",
    "    for char in search_word:\n",
    "        found_in_child = False\n",
    "        # Search for the character in the children of the present `node`\n",
    "        for child in node.children:\n",
    "            if child.char == char:\n",
    "                # We found it, increase the counter by 1 to keep track that another\n",
    "                # word has it as well\n",
    "                child.counter += 1\n",
    "                # And point the node to the child that contains this char\n",
    "                node = child\n",
    "                found_in_child = True\n",
    "                break\n",
    "        # We did not find it so add a new chlid\n",
    "        if not found_in_child:\n",
    "            new_node = TrieNode(char, \"\")\n",
    "            node.children.append(new_node)\n",
    "            # And then point node to the new child\n",
    "            node = new_node\n",
    "    # Everything finished. Mark it as the end of a word.\n",
    "    node.word_finished = True\n",
    "    node.value = value\n",
    "\n",
    "\n",
    "def find_prefix(root, prefix: str):\n",
    "    \"\"\"\n",
    "    Check and return \n",
    "      1. If the prefix exsists in any of the words we added so far\n",
    "      2. If yes then how may words actually have the prefix\n",
    "    \"\"\"\n",
    "    node = root\n",
    "    # If the root node has no children, then return False.\n",
    "    # Because it means we are trying to search in an empty trie\n",
    "    if not root.children:\n",
    "        return []\n",
    "    for char in prefix:\n",
    "        char_not_found = True\n",
    "        # Search through all the children of the present `node`\n",
    "        for child in node.children:\n",
    "            if child.char == char:\n",
    "                # We found the char existing in the child.\n",
    "                char_not_found = False\n",
    "                # Assign node as the child containing the char and break\n",
    "                node = child\n",
    "                break\n",
    "        # Return False anyway when we did not find a char.\n",
    "        if char_not_found:\n",
    "            return []\n",
    "    \n",
    "    ## Now that we have the node, let's get all leaf nodes\n",
    "    res = []\n",
    "    ## TO DO: If exact match, ignore partial matches --> Remove once dropdown is added\n",
    "    if node.word_finished:\n",
    "        return [node.value]\n",
    "    \n",
    "    def dfs(nested_prefix, node):\n",
    "        if node.word_finished:\n",
    "            res.append(node.value)\n",
    "        for child in node.children:\n",
    "            dfs(nested_prefix + child.char, child)\n",
    "\n",
    "    dfs(prefix, node)\n",
    "    return res\n",
    "            \n",
    "\n",
    "## Initialize the Trie Tree - 1 For display Name, 1 for Last Name\n",
    "root = TrieNode('*', '*')\n",
    "for name in [p[\"name\"] for p in players]:\n",
    "    add(root, name[\"display\"], name[\"display\"])\n",
    "    \n",
    "\n",
    "last_name_root = TrieNode(\"*\", \"*\")\n",
    "for name in [p[\"name\"] for p in players]:\n",
    "    add(last_name_root, name[\"last\"], name[\"display\"])\n",
    "    \n",
    "\n",
    "def search_ahead(prefix):\n",
    "    using_all = find_prefix(root, prefix)\n",
    "    using_last = find_prefix(last_name_root, prefix)\n",
    "    return list(set(using_all + using_last))\n",
    "\n",
    "\n",
    "print(search_ahead(\"Harry\"))\n",
    "print(search_ahead(\"Magui\"))"
   ]
  },
  {
   "cell_type": "code",
   "execution_count": 36,
   "id": "9154a1f9-7488-4408-bcc0-bf3c61021b60",
   "metadata": {},
   "outputs": [],
   "source": [
    "def get_name(player):\n",
    "    return player[\"name\"]\n",
    "\n",
    "def get_goals(player):\n",
    "    return player.get(\"goals\",0)\n",
    "\n",
    "def get_assists(player):\n",
    "    return player.get(\"assists\", 0)\n",
    "\n",
    "def get_appearances(player):\n",
    "    return player[\"appearances\"]\n",
    "\n",
    "def get_mins(player):\n",
    "    return player[\"mins_played\"]\n",
    "\n",
    "def get_team(player):\n",
    "    return player[\"team\"]\n",
    "\n",
    "def get_country(player):\n",
    "    return player[\"nation\"]\n",
    "\n",
    "def get_age(player):\n",
    "    date = datetime.datetime.fromtimestamp(player[\"dob\"] / 1000)\n",
    "    return relativedelta(datetime.datetime.now(), date).years\n",
    "\n",
    "def get_position(player):\n",
    "    return player[\"position\"]\n",
    "\n",
    "def get_jersey(player):\n",
    "    return player[\"number\"]\n",
    "\n",
    "\n",
    "\n",
    "CORRECT = \"✓\"\n",
    "LOWER = \"↓\"\n",
    "HIGHER = \"↑\"\n",
    "WRONG = \"X\"\n",
    "CLOSE = \"Close: ✓\"\n",
    "CONFEDERATION = \"Confederation: ✓\"\n",
    "\n",
    "\n",
    "def main():\n",
    "    player = pick_random_player()\n",
    "    \n",
    "    guesses = []\n",
    "    max_guesses = 6\n",
    "    \n",
    "    \n",
    "    guess_history = [[\"Name\", \"Team\",\"Position\",\"Goals\", \"Assists\", \"Appearances\", \"Country\", \"Age\", \"Jersey\"]]\n",
    "    \n",
    "    try:\n",
    "        while (len(guesses) < max_guesses):\n",
    "            player_name_guess = \"\"\n",
    "            while player_name_guess == \"\":\n",
    "                input_name = input(\"PLAYER NAME: \")\n",
    "\n",
    "                if input_name == \"BREAK\":\n",
    "                    raise ValueError('Breaking out of the program!')\n",
    "\n",
    "\n",
    "                valid_names = search_ahead(input_name)\n",
    "                if len(valid_names) == 1:\n",
    "                    name = valid_names[0]\n",
    "                    if name in [p[\"name\"][\"display\"] for p in guesses]:\n",
    "                        print(\"DUMBASS! You already guessed that\")\n",
    "                    else:\n",
    "                        player_name_guess = name\n",
    "                else:\n",
    "                    print(\"VAlID NAMES: \" + \", \".join(valid_names))\n",
    "\n",
    "            guess = player_map[player_name_guess]\n",
    "            guess_name = get_name(guess)\n",
    "            guess_goals = get_goals(guess)\n",
    "            guess_assists = get_assists(guess)\n",
    "            guess_mins_played = get_mins(guess)\n",
    "            guess_apps = get_appearances(guess)\n",
    "            guess_country = get_country(guess)[\"country\"]\n",
    "            guess_team = get_team(guess)\n",
    "            guess_age = get_age(guess)\n",
    "            guess_position = get_position(guess)\n",
    "            guess_jersey = get_jersey(guess)\n",
    "\n",
    "            ## Exact Matches\n",
    "            def get_exact_match_code(player_v, guess_v):\n",
    "                if player_v == guess_v:\n",
    "                    return CORRECT\n",
    "                else:\n",
    "                    return WRONG\n",
    "\n",
    "            def get_position_code():\n",
    "                player_v = get_position(player)\n",
    "                guess_v = get_position(guess)\n",
    "                return get_exact_match_code(player_v, guess_v)\n",
    "\n",
    "\n",
    "            # Comparison Matches with \"Closeness\"\n",
    "            def get_comparison_code(player_v, guess_v, offset):\n",
    "                comp = player_v - guess_v\n",
    "                if player_v == guess_v:\n",
    "                    return CORRECT\n",
    "                elif comp > 0 and comp <= offset:\n",
    "                    return HIGHER\n",
    "                elif comp < 0 and comp >= -offset:\n",
    "                    return LOWER\n",
    "                else:\n",
    "                    return WRONG\n",
    "\n",
    "            def get_goals_code():\n",
    "                player_v = get_goals(player)\n",
    "                guess_v = get_goals(guess)\n",
    "                return get_comparison_code(player_v, guess_v, 4)\n",
    "\n",
    "            def get_assists_code():\n",
    "                player_v = get_assists(player)\n",
    "                guess_v = get_assists(guess)\n",
    "                return get_comparison_code(player_v, guess_v, 2)\n",
    "\n",
    "\n",
    "            def get_mins_code():\n",
    "                player_v = get_mins(player)\n",
    "                guess_v = get_mins(guess)\n",
    "                return get_comparison_code(player_v, guess_v, 500)\n",
    "\n",
    "            def get_age_code():\n",
    "                player_v = get_age(player)\n",
    "                guess_v = get_age(guess)\n",
    "                return get_comparison_code(player_v, guess_v, 2)\n",
    "\n",
    "\n",
    "            def get_appearances_code():\n",
    "                player_v = get_appearances(player)\n",
    "                guess_v = get_appearances(guess)\n",
    "                return get_comparison_code(player_v, guess_v, 5)\n",
    "            \n",
    "            \n",
    "            def get_jersey_code():\n",
    "                player_v = get_jersey(player)\n",
    "                guess_v = get_jersey(guess)\n",
    "                return get_comparison_code(player_v, guess_v, 2)\n",
    "            \n",
    "            def get_country_code():\n",
    "                player_v = get_country(player)[\"country\"]\n",
    "                guess_v = get_country(guess)[\"country\"]\n",
    "                if player_v == guess_v:\n",
    "                    return CORRECT\n",
    "                elif confederation_mapping.get(player_v, \"a\") == confederation_mapping.get(guess_v, \"b\"):\n",
    "                    return CONFEDERATION\n",
    "                else:\n",
    "                    return WRONG\n",
    "                \n",
    "            def get_team_code():\n",
    "                player_v = get_team(player)\n",
    "                guess_v = get_team(guess)\n",
    "                if player_v == guess_v:\n",
    "                    return CORRECT\n",
    "                elif abs(get_epl_table_diff(player_v, guess_v)) <= 2:\n",
    "                    return CLOSE\n",
    "                else:\n",
    "                    return WRONG\n",
    "\n",
    "\n",
    "            if guess[\"name\"] == player[\"name\"]:\n",
    "                print(player[\"name\"][\"display\"] + \" is correct! YOU WIN!!\")\n",
    "                break\n",
    "            else:\n",
    "                guess_data = [guess[\"name\"][\"display\"], guess_team, guess_position, guess_goals, guess_assists, guess_apps, guess_country, guess_age, guess_jersey]\n",
    "                guess_hints = [\"\", get_team_code(), get_position_code(), get_goals_code(), get_assists_code(), get_appearances_code(), get_country_code(), get_age_code(), get_jersey_code()]\n",
    "                guess_history.append(guess_data)\n",
    "                guess_history.append(guess_hints)\n",
    "                \n",
    "                l1, l2 = len(guess_history), len(guess_history[0])\n",
    "                pd.set_option('expand_frame_repr', False)\n",
    "                print(pd.DataFrame(guess_history, index=['']*l1, columns=['']*l2))\n",
    "                \n",
    "                guesses.append(guess)\n",
    "                \n",
    "                \n",
    "    except ValueError as err:\n",
    "        print(err.args)\n",
    "    \n",
    "    if len(guesses) >= max_guesses:\n",
    "        print(\"YOU LOSE!\")\n",
    "        print(\"Correct answer was: \" + player[\"name\"][\"display\"])\n",
    "        print(player)"
   ]
  },
  {
   "cell_type": "code",
   "execution_count": 48,
   "id": "2b313a6c-025f-479c-b342-fa32a5950f50",
   "metadata": {},
   "outputs": [
    {
     "name": "stdin",
     "output_type": "stream",
     "text": [
      "PLAYER NAME:  Ziyech\n"
     ]
    },
    {
     "name": "stdout",
     "output_type": "stream",
     "text": [
      "                                                                                     \n",
      "          Name      Team  Position  Goals  Assists  Appearances  Country  Age  Jersey\n",
      "  Hakim Ziyech   Chelsea         M      4        2           15  Morocco   29      22\n",
      "                Close: ✓         ✓      X        X            X        X    X       X\n"
     ]
    },
    {
     "name": "stdin",
     "output_type": "stream",
     "text": [
      "PLAYER NAME:  Alcan\n"
     ]
    },
    {
     "name": "stdout",
     "output_type": "stream",
     "text": [
      "VAlID NAMES: \n"
     ]
    },
    {
     "name": "stdin",
     "output_type": "stream",
     "text": [
      "PLAYER NAME:  Thiago\n"
     ]
    },
    {
     "name": "stdout",
     "output_type": "stream",
     "text": [
      "                                                                                               \n",
      "          Name       Team  Position  Goals  Assists  Appearances           Country  Age  Jersey\n",
      "  Hakim Ziyech    Chelsea         M      4        2           15           Morocco   29      22\n",
      "                 Close: ✓         ✓      X        X            X                 X    X       X\n",
      "        Thiago  Liverpool         M      1        2           17             Spain   30       6\n",
      "                 Close: ✓         ✓      X        X            X  Confederation: ✓    X       ↑\n"
     ]
    },
    {
     "name": "stdin",
     "output_type": "stream",
     "text": [
      "PLAYER NAME:  Kevin de\n"
     ]
    },
    {
     "name": "stdout",
     "output_type": "stream",
     "text": [
      "VAlID NAMES: \n"
     ]
    },
    {
     "name": "stdin",
     "output_type": "stream",
     "text": [
      "PLAYER NAME:  De Br\n"
     ]
    },
    {
     "name": "stdout",
     "output_type": "stream",
     "text": [
      "                                                                                                        \n",
      "             Name             Team  Position  Goals  Assists  Appearances           Country  Age  Jersey\n",
      "     Hakim Ziyech          Chelsea         M      4        2           15           Morocco   29      22\n",
      "                          Close: ✓         ✓      X        X            X                 X    X       X\n",
      "           Thiago        Liverpool         M      1        2           17             Spain   30       6\n",
      "                          Close: ✓         ✓      X        X            X  Confederation: ✓    X       ↑\n",
      "  Kevin De Bruyne  Manchester City         M      9        3           22           Belgium   30      17\n",
      "                                 X         ✓      ✓        ↑            X  Confederation: ✓    X       X\n"
     ]
    },
    {
     "name": "stdin",
     "output_type": "stream",
     "text": [
      "PLAYER NAME:  Saka\n"
     ]
    },
    {
     "name": "stdout",
     "output_type": "stream",
     "text": [
      "Bukayo Saka is correct! YOU WIN!!\n"
     ]
    }
   ],
   "source": [
    "main()"
   ]
  },
  {
   "cell_type": "code",
   "execution_count": null,
   "id": "23b2d11c-937e-4e1b-be16-78d101919ad5",
   "metadata": {},
   "outputs": [],
   "source": []
  }
 ],
 "metadata": {
  "kernelspec": {
   "display_name": "Python 3 (ipykernel)",
   "language": "python",
   "name": "python3"
  },
  "language_info": {
   "codemirror_mode": {
    "name": "ipython",
    "version": 3
   },
   "file_extension": ".py",
   "mimetype": "text/x-python",
   "name": "python",
   "nbconvert_exporter": "python",
   "pygments_lexer": "ipython3",
   "version": "3.7.12"
  }
 },
 "nbformat": 4,
 "nbformat_minor": 5
}
